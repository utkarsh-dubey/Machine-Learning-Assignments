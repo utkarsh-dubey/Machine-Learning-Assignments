{
 "cells": [
  {
   "cell_type": "code",
   "execution_count": null,
   "metadata": {
    "id": "rbOrnLn0woZ8"
   },
   "outputs": [],
   "source": [
    "import numpy as np\n",
    "import pandas as pd\n",
    "from sklearn.metrics import accuracy_score\n",
    "from sklearn.utils import shuffle\n",
    "import matplotlib.pyplot as plt\n",
    "from tqdm import tqdm\n",
    "from IPython import display"
   ]
  },
  {
   "cell_type": "markdown",
   "metadata": {
    "id": "5Nnxbv-XzN4b"
   },
   "source": []
  },
  {
   "cell_type": "code",
   "execution_count": null,
   "metadata": {
    "id": "CspR_7-O2n9V"
   },
   "outputs": [],
   "source": [
    "class Threshold:\n",
    "    def __init__(self, value=0.5):\n",
    "        self.value = value\n",
    "        \n",
    "    def __call__(self, x):\n",
    "        return np.where(x >= self.value, 1, 0)\n",
    "\n",
    "    def gradient(self, x):\n",
    "        return np.ones(x.shape)\n",
    "\n",
    "\n",
    "class Step():\n",
    "    def __call__(self, x):\n",
    "        return np.where(x > 0, 1, 0)\n",
    "    \n",
    "    def gradient(self, x):\n",
    "        return np.ones(x.shape)\n",
    "        \n",
    "class Softmax():\n",
    "    def __call__(self, x):\n",
    "        e_x = np.exp(x - np.max(x, axis=-1, keepdims=True))\n",
    "        return e_x / np.sum(e_x, axis=-1, keepdims=True)\n",
    "\n",
    "    def gradient(self, x):\n",
    "        p = self.__call__(x)\n",
    "        return p * (1 - p)\n",
    "\n",
    "class TanH():\n",
    "    def __call__(self, x):\n",
    "        return 2 / (1 + np.exp(-2*x)) - 1\n",
    "\n",
    "    def gradient(self, x):\n",
    "        return 1 - np.power(self.__call__(x), 2)\n",
    "\n",
    "class ReLU():\n",
    "    def __call__(self, x):\n",
    "        return np.where(x >= 0, x, 0)\n",
    "\n",
    "    def gradient(self, x):\n",
    "        return np.where(x >= 0, 1, 0)\n",
    "\n",
    "class LeakyReLU():\n",
    "    def __init__(self, alpha=0.2):\n",
    "        self.alpha = alpha\n",
    "\n",
    "    def __call__(self, x):\n",
    "        return np.where(x >= 0, x, self.alpha * x)\n",
    "\n",
    "    def gradient(self, x):\n",
    "        return np.where(x >= 0, 1, self.alpha)\n",
    "\n",
    "class Sigmoid():\n",
    "    def __init__(self, a=0.5):\n",
    "        self.a = a\n",
    "\n",
    "    def __call__(self, x):\n",
    "        return 1 / (1 + np.e ** ( -x*self.a ))\n",
    "    \n",
    "    def gradient(self, x):\n",
    "        return self.__call__(x) * (1 - self.__call__(x))\n",
    "\n",
    "class Linear():\n",
    "    def __init__(self, m=1, c=0):\n",
    "        '''\n",
    "          f(x) = mx + c\n",
    "          f'(x) = m\n",
    "        '''\n",
    "        self.m = m\n",
    "        self.c = c\n",
    "\n",
    "    def __call__(self, x):\n",
    "        return x\n",
    "\n",
    "    def gradient(self, x):\n",
    "        return np.ones(x.shape)\n",
    "\n",
    "def Activation(name):\n",
    "    if name.lower() == 'sigmoid':\n",
    "        return Sigmoid\n",
    "    elif name.lower() == 'tanh':\n",
    "        return TanH\n",
    "    elif name.lower() == 'relu':\n",
    "        return ReLU\n",
    "    elif name.lower() == 'leakyrelu':\n",
    "        return LeakyReLU\n",
    "    elif name.lower() == 'step':\n",
    "        return Step\n",
    "    elif name.lower() == 'softmax':\n",
    "        return Softmax\n",
    "    elif name.lower() == 'linear':\n",
    "        return Linear\n",
    "    elif name.lower() == 'threshold':\n",
    "        return Threshold\n",
    "    else:\n",
    "        raise ValueError('Activation function not found')\n",
    "\n",
    "\n",
    "class Weights:\n",
    "    @staticmethod\n",
    "    def weight(x:str, shape, state=0, **kwargs):\n",
    "        np.random.seed(state)\n",
    "        return {\n",
    "            'zero'  :np.zeros(**kwargs, shape=shape),\n",
    "            'random':np.random.random(**kwargs, size=shape),\n",
    "            'normal':np.random.normal(**kwargs, size=shape)\n",
    "        }[x]\n",
    "\n",
    "class Loss():\n",
    "    @staticmethod\n",
    "    def acc(y, p):\n",
    "        return sum(y==p)/len(y)\n",
    "\n",
    "\n",
    "class SquareLoss(Loss):\n",
    "    @staticmethod\n",
    "    def loss(y, y_pred):\n",
    "        n = y_pred.shape[1]\n",
    "        return (1./(2*n)) * np.sum((y - y_pred) ** 2)\n",
    "\n",
    "    @staticmethod\n",
    "    def gradient(y, y_pred):\n",
    "        return (y - y_pred)\n",
    "\n",
    "class CrossEntropy(Loss):\n",
    "    @staticmethod\n",
    "    def loss(y, p):\n",
    "        # Avoid division by zero\n",
    "        p = np.clip(p, 1e-15, 1 - 1e-15)\n",
    "        return np.sum(- y * np.log(p) - (1 - y) * np.log(1 - p))\n",
    "\n",
    "    @staticmethod\n",
    "    def acc(y, p):\n",
    "        return accuracy_score(y, p)\n",
    "\n",
    "    @staticmethod\n",
    "    def gradient(y, p):\n",
    "        # Avoid division by zero\n",
    "        p = np.clip(p, 1e-15, 1 - 1e-15)\n",
    "        return - (y / p) + (1 - y) / (1 - p)\n"
   ]
  },
  {
   "cell_type": "code",
   "execution_count": null,
   "metadata": {
    "id": "Rud1uX0uYAvw"
   },
   "outputs": [],
   "source": [
    "class MyNeuralNetwork:\n",
    "    def __init__(self, size, layer, batch_size:int, number_of_epoch, *, hidden_activation=None, activation:str='Sigmoid', learning_rate:float=0.01, weight_init:str='zero', random_state=42):\n",
    "        '''\n",
    "        NN with multiple layers implementation from Scratch\n",
    "\n",
    "        param: size: list of number of neurons in each layer\n",
    "        param: layer: number of layers\n",
    "        param: activation: activation function (Sigmoid, ReLU, Softmax, TanH, LeakyReLU, Linear)\n",
    "        param: learning_rate: learning rate\n",
    "        param: weight_init: weight initialization\n",
    "        param: random_state: random seed\n",
    "        '''\n",
    "\n",
    "        np.random.seed(random_state)\n",
    "        self.random_state = random_state\n",
    "        self.accuracy = lambda y,y_pred: sum((y == y_pred))\n",
    "        self.size = size\n",
    "        self.batch_size = batch_size\n",
    "        self.epochs = number_of_epoch\n",
    "        self.learning_rate = learning_rate\n",
    "        self.layer = layer\n",
    "        self.cost_function = SquareLoss\n",
    "        self.activation = Activation(activation)()\n",
    "        self.activation_hidden = Activation(hidden_activation or activation)() \n",
    "        self.weights = np.array([Weights.weight(weight_init, state=0, shape=(self.layer[index], self.layer[index-1])) for index in range(1, self.size)], dtype=object)\n",
    "        self.biases =  np.array([np.zeros(shape=(n, 1)) for n in self.layer[1:]], dtype=object)\n",
    "\n",
    "    def forward_propogation(self, X):\n",
    "        '''\n",
    "        :param X: ndarray\n",
    "        :return:    output: output of the last layer\n",
    "                    pre_activation: pre activation of the each layer\n",
    "                    output_activations: activation of the each layer\n",
    "        '''\n",
    "        \n",
    "        output = X\n",
    "        pre_activations = []\n",
    "        output_activations = [X]\n",
    "        for w, b in zip(self.weights, self.biases):\n",
    "            # print('-------------------------------------')\n",
    "            # print('output:', output.shape)\n",
    "            # print('w:', w.shape)\n",
    "            # print('b:', b.shape)\n",
    "            # print('-------------------------------------')\n",
    "            \n",
    "            pre_activation = np.dot(w, output) + b\n",
    "            output = self.activation(pre_activation)\n",
    "            output_activations.append(output)\n",
    "            pre_activations.append(pre_activation)\n",
    "        \n",
    "        return output, pre_activations, output_activations\n",
    "\n",
    "    def _delta(self, y_pred, y, pre_activation):\n",
    "        '''\n",
    "        Delta Rule =>  Δwji(n) = ηδj yi\n",
    "        Output layer => δj(n) = (dj(n) - Yj(n)) φ’ j(Vj(n))\n",
    "        Hidden layer => δj(n) = φ’(Vj(n)) ∑k δk(n) Wkj(n)\n",
    "\n",
    "        :param X: ndarray: input dataset\n",
    "        :param y: ndarray: ground Truth (output)\n",
    "        :param pre_activation: ndarray : pre activation Vj(n) of the each layer\n",
    "        :return:    delta: delta of the last layer\n",
    "                    deltas: delta of the each layer\n",
    "        '''\n",
    "        delta_output_layer = self.cost_function.gradient(y, y_pred) * self.activation.gradient(pre_activation[-1])        \n",
    "        deltas = [0] * (self.size-1)\n",
    "        deltas[-1] = delta_output_layer\n",
    "\n",
    "        for layer in range(self.size-3, -1, -1):\n",
    "            # print(deltas[layer+1].shape, self.weights[layer+1].T.shape)\n",
    "            delta_hidden_layer = self.activation_hidden.gradient(pre_activation[layer]) * np.dot(self.weights[layer+1].T, deltas[layer+1])\n",
    "            deltas[layer] = delta_hidden_layer\n",
    "        return deltas\n",
    "\n",
    "    def _update_weights(self, output_activation, deltas):\n",
    "        '''\n",
    "        backpropagation\n",
    "        Delta Rule => Δwji(n) = ηδj yi\n",
    "\n",
    "        :param output_activation: ndarray: activation of the each layer\n",
    "        :param deltas: ndarray: delta of the each layer\n",
    "        :return:\n",
    "        '''\n",
    "        for layer in range(self.size-1):\n",
    "            self.weights[layer] = self.weights[layer] + self.learning_rate * np.dot(deltas[layer], output_activation[layer].T)\n",
    "            self.biases[layer] = self.biases[layer] + self.learning_rate * np.expand_dims(deltas[layer].mean(axis=1), axis=1)\n",
    "\n",
    "\n",
    "    def predict(self, X):\n",
    "        '''\n",
    "        :param X: ndarray: input dataset\n",
    "        :return:    y_pred: output of the last layer\n",
    "        '''\n",
    "        output, _, _ = self.forward_propogation(X)\n",
    "        return output\n",
    "\n",
    "    def predict_proba(self, X):\n",
    "        '''\n",
    "        FIXME: not working need more research\n",
    "        :param X: ndarray: input dataset\n",
    "        :return:    y_pred: output of the last layer\n",
    "        '''\n",
    "        y_pred = self.predict(X)\n",
    "        y_pred = y_pred.ravel()\n",
    "\n",
    "        if y_pred.ndim == 1:\n",
    "            return np.vstack([1 - y_pred, y_pred]).T\n",
    "        else:\n",
    "            return y_pred\n",
    "\n",
    "    def score(self, y, y_pred):\n",
    "        '''\n",
    "        :param X: ndarray: input dataset\n",
    "        :param y: ndarray: ground Truth (output)\n",
    "        :return:    accuracy: accuracy of the model\n",
    "        '''\n",
    "        return self.accuracy(y, y_pred)\n",
    "\n",
    "    def fit(self, X, y, *, validation_X=None, validation_y=None):\n",
    "        train_error_per_epoch = []\n",
    "        validation_error_per_epoch = []\n",
    "\n",
    "        train_accuracy_per_epoch = []\n",
    "        validation_accuracy_per_epoch = []\n",
    "\n",
    "        for epoch in tqdm(range(self.epochs)):\n",
    "            y_pred, pre_activations, output_activation = self.forward_propogation(X)\n",
    "            train_accuracy_per_epoch.append(self.score(y, y_pred))\n",
    "            train_error_per_epoch.append(self.cost_function.loss(y, y_pred))\n",
    "\n",
    "            if validation_X is not None and validation_y is not None:\n",
    "                validation_y_pred, _, _ = self.forward_propogation(validation_X)\n",
    "                validation_accuracy_per_epoch.append(self.score(validation_y, validation_y_pred))\n",
    "                validation_error_per_epoch.append(self.cost_function.loss(validation_y, validation_y_pred))\n",
    "\n",
    "            deltas = self._delta(y_pred, y, pre_activations)\n",
    "            self._update_weights(output_activation, deltas)\n",
    "\n",
    "        return {\n",
    "            'train_error':         train_error_per_epoch,\n",
    "            'train_accuracy':      train_accuracy_per_epoch, \n",
    "            'validation_error':    validation_error_per_epoch, \n",
    "            'vaildation_accuracy': validation_accuracy_per_epoch\n",
    "            }"
   ]
  },
  {
   "cell_type": "code",
   "execution_count": null,
   "metadata": {
    "id": "Z3oGHk-ePCwv"
   },
   "outputs": [],
   "source": [
    "x_train = np.array([[0,0], [0,1], [1,0], [1,1]])\n",
    "y_train = np.array([[0], [1], [1], [0]])"
   ]
  },
  {
   "cell_type": "code",
   "execution_count": null,
   "metadata": {
    "id": "gCEurWYPKK50"
   },
   "outputs": [],
   "source": [
    "a = MyNeuralNetwork(3, [2, 2, 1], 4, 50, learning_rate=0.1, activation='step', hidden_activation='linear', weight_init='random')"
   ]
  },
  {
   "cell_type": "code",
   "execution_count": null,
   "metadata": {
    "colab": {
     "base_uri": "https://localhost:8080/"
    },
    "id": "9pEVCuFpFU-D",
    "outputId": "ca6b3e38-9d5c-4790-f51c-50a06742c992"
   },
   "outputs": [
    {
     "name": "stderr",
     "output_type": "stream",
     "text": [
      "100%|██████████| 50/50 [00:00<00:00, 4642.80it/s]\n"
     ]
    }
   ],
   "source": [
    "d = a.fit(x_train.T, y_train.T)"
   ]
  },
  {
   "cell_type": "code",
   "execution_count": null,
   "metadata": {
    "colab": {
     "base_uri": "https://localhost:8080/"
    },
    "id": "yNHdKWKBiHwO",
    "outputId": "f76d4ead-6223-4e39-a6e9-5a6ee8c388ee"
   },
   "outputs": [
    {
     "data": {
      "text/plain": [
       "array([[0, 1, 1, 0]])"
      ]
     },
     "execution_count": 28,
     "metadata": {},
     "output_type": "execute_result"
    }
   ],
   "source": [
    "a.predict(x_train.T)"
   ]
  },
  {
   "cell_type": "code",
   "execution_count": null,
   "metadata": {
    "colab": {
     "base_uri": "https://localhost:8080/",
     "height": 283
    },
    "id": "o9iu0wBTb0t9",
    "outputId": "67b23804-c4f3-4812-a566-ce5bda970750"
   },
   "outputs": [
    {
     "data": {
      "text/plain": [
       "[<matplotlib.lines.Line2D at 0x7f6c42b02910>]"
      ]
     },
     "execution_count": 29,
     "metadata": {},
     "output_type": "execute_result"
    },
    {
     "data": {
      "image/png": "[encoded data removed]",
      "text/plain": [
       "<Figure size 432x288 with 1 Axes>"
      ]
     },
     "metadata": {
      "needs_background": "light"
     },
     "output_type": "display_data"
    }
   ],
   "source": [
    "plt.plot(d['train_error'])"
   ]
  },
  {
   "cell_type": "code",
   "execution_count": null,
   "metadata": {
    "colab": {
     "base_uri": "https://localhost:8080/",
     "height": 337
    },
    "id": "s49CRWFKhVPo",
    "outputId": "4acd19f1-f530-459f-df89-224a2be4db15"
   },
   "outputs": [
    {
     "data": {
      "text/plain": [
       "[<matplotlib.lines.Line2D at 0x7f6c42c20810>,\n",
       " <matplotlib.lines.Line2D at 0x7f6c42c20450>,\n",
       " <matplotlib.lines.Line2D at 0x7f6c42bd6cd0>,\n",
       " <matplotlib.lines.Line2D at 0x7f6c42c329d0>]"
      ]
     },
     "execution_count": 30,
     "metadata": {},
     "output_type": "execute_result"
    },
    {
     "data": {
      "image/png": "[encoded data removed]",
      "text/plain": [
       "<Figure size 432x288 with 1 Axes>"
      ]
     },
     "metadata": {
      "needs_background": "light"
     },
     "output_type": "display_data"
    }
   ],
   "source": [
    "plt.plot(d['train_accuracy'])"
   ]
  },
  {
   "cell_type": "code",
   "execution_count": null,
   "metadata": {
    "colab": {
     "base_uri": "https://localhost:8080/"
    },
    "id": "nsyuSWcdvCae",
    "outputId": "071d107b-4e90-4c38-9db6-2fe4a2af61b1"
   },
   "outputs": [
    {
     "data": {
      "text/plain": [
       "array([array([[0.1802373 , 0.33661316],\n",
       "       [0.10453614, 0.06665594]]),\n",
       "       array([[ 0.1488135 , -0.08481063]])], dtype=object)"
      ]
     },
     "execution_count": 31,
     "metadata": {},
     "output_type": "execute_result"
    }
   ],
   "source": [
    "a.weights"
   ]
  },
  {
   "cell_type": "code",
   "execution_count": null,
   "metadata": {
    "colab": {
     "base_uri": "https://localhost:8080/"
    },
    "id": "xlZZKtYQvDoE",
    "outputId": "39869dfe-35a9-4d5f-d559-84058af4db98"
   },
   "outputs": [
    {
     "data": {
      "text/plain": [
       "array([array([[-0.09488135],\n",
       "       [-0.10901894]]), array([[-0.1]])], dtype=object)"
      ]
     },
     "execution_count": 32,
     "metadata": {},
     "output_type": "execute_result"
    }
   ],
   "source": [
    "a.biases"
   ]
  },
  {
   "cell_type": "code",
   "execution_count": null,
   "metadata": {
    "colab": {
     "base_uri": "https://localhost:8080/"
    },
    "id": "FZuN4jahvPPD",
    "outputId": "a95abfd9-032f-408b-d6d0-4129aaee7167"
   },
   "outputs": [
    {
     "name": "stdout",
     "output_type": "stream",
     "text": [
      "Drive already mounted at /content/drive; to attempt to forcibly remount, call drive.mount(\"/content/drive\", force_remount=True).\n"
     ]
    }
   ],
   "source": [
    "from google.colab import drive\n",
    "drive.mount('/content/drive')"
   ]
  },
  {
   "cell_type": "code",
   "execution_count": null,
   "metadata": {
    "id": "DcgfkXKYMROc"
   },
   "outputs": [],
   "source": [
    "def show_images(image, num_row=2, num_col=5):\n",
    "    # plot images\n",
    "    image_size = int(np.sqrt(image.shape[-1]))\n",
    "    image = np.reshape(image, (image.shape[0], image_size, image_size))\n",
    "    fig, axes = plt.subplots(num_row, num_col, figsize=(1.5*num_col,2*num_row))\n",
    "    for i in range(num_row*num_col):\n",
    "        ax = axes[i//num_col, i%num_col]\n",
    "        ax.imshow(image[i], cmap='gray', vmin=0, vmax=1)\n",
    "        ax.axis('off')\n",
    "    plt.tight_layout()\n",
    "    plt.show()\n",
    "    \n",
    "def one_hot(x, k, dtype=np.float32):\n",
    "    \"\"\"Create a one-hot encoding of x of size k.\"\"\"\n",
    "    return np.array(x[:, None] == np.arange(k), dtype)"
   ]
  },
  {
   "cell_type": "code",
   "execution_count": null,
   "metadata": {
    "id": "gcbdKZcLPb4n"
   },
   "outputs": [],
   "source": [
    "df_test = pd.read_csv('/content/drive/MyDrive/content/archive/mnist_test.csv')\n",
    "df_train = pd.read_csv('/content/drive/MyDrive/content/archive/mnist_train.csv')"
   ]
  },
  {
   "cell_type": "code",
   "execution_count": null,
   "metadata": {
    "id": "hHY9TOQUPjyx"
   },
   "outputs": [],
   "source": [
    "trainX, trainY = df_train.drop('label', axis=1), df_train['label']"
   ]
  },
  {
   "cell_type": "code",
   "execution_count": null,
   "metadata": {
    "colab": {
     "base_uri": "https://localhost:8080/",
     "height": 251
    },
    "id": "0ITDbHvPMMJY",
    "outputId": "ed3ece1a-ea36-464e-a19a-031ccbdb3062"
   },
   "outputs": [
    {
     "data": {
      "image/png": "[encoded data removed]",
      "text/plain": [
       "<Figure size 540x288 with 10 Axes>"
      ]
     },
     "metadata": {
      "needs_background": "light"
     },
     "output_type": "display_data"
    }
   ],
   "source": [
    "show_images(trainX.to_numpy())"
   ]
  },
  {
   "cell_type": "code",
   "execution_count": null,
   "metadata": {
    "id": "UbmJIBMvXc4K"
   },
   "outputs": [],
   "source": [
    "train_y = np.array([[i] for i in trainY])"
   ]
  },
  {
   "cell_type": "code",
   "execution_count": null,
   "metadata": {
    "id": "pZWfPM0eTSZH"
   },
   "outputs": [],
   "source": [
    "trainY = np.array([ [ j for j in list(map(int, bin(i)[2:].rjust(4, '0'))) ] for i in trainY.to_numpy() ])"
   ]
  },
  {
   "cell_type": "code",
   "execution_count": null,
   "metadata": {
    "id": "OWWHhPvnPxsj"
   },
   "outputs": [],
   "source": [
    "a = MyNeuralNetwork(6, [784, 256, 128, 64, 32, 4], 10000, number_of_epoch=150, learning_rate=0.08, weight_init='random', activation='sigmoid', hidden_activation='sigmoid')"
   ]
  },
  {
   "cell_type": "code",
   "execution_count": null,
   "metadata": {
    "colab": {
     "base_uri": "https://localhost:8080/"
    },
    "id": "dZZWwBu8QJ3F",
    "outputId": "31b16fe4-c574-46ee-decf-c356709383f2"
   },
   "outputs": [
    {
     "name": "stderr",
     "output_type": "stream",
     "text": [
      "  1%|▏         | 2/150 [00:20<24:43, 10.02s/it]/usr/local/lib/python3.7/dist-packages/ipykernel_launcher.py:57: RuntimeWarning: overflow encountered in power\n",
      " 72%|███████▏  | 108/150 [17:55<06:56,  9.91s/it]"
     ]
    }
   ],
   "source": [
    "res = a.fit(trainX.to_numpy().T, trainY.T)"
   ]
  },
  {
   "cell_type": "code",
   "execution_count": null,
   "metadata": {
    "id": "viUmaiLYjRHA"
   },
   "outputs": [],
   "source": [
    "y_pred = a.predict(trainX.to_numpy().T).T"
   ]
  },
  {
   "cell_type": "code",
   "execution_count": null,
   "metadata": {
    "id": "qsqeONoXQ4ab"
   },
   "outputs": [],
   "source": [
    "plt.plot(res['train_error'])"
   ]
  },
  {
   "cell_type": "code",
   "execution_count": null,
   "metadata": {
    "id": "zCl-YkVDfCwP"
   },
   "outputs": [],
   "source": [
    "sum((train_y.T - y_pred.T))"
   ]
  },
  {
   "cell_type": "code",
   "execution_count": null,
   "metadata": {
    "id": "hswAbOcYhj00"
   },
   "outputs": [],
   "source": [
    "def binTodec(y):\n",
    "    result = []\n",
    "    for i in y:\n",
    "      num = \"\"\n",
    "      for j in i:\n",
    "          num += str(j)\n",
    "      result.append(int(num,2))\n",
    "    return result\n",
    "r = binTodec(y_pred)\n"
   ]
  },
  {
   "cell_type": "code",
   "execution_count": null,
   "metadata": {
    "colab": {
     "base_uri": "https://localhost:8080/"
    },
    "id": "x2-Q24_EqKYY",
    "outputId": "8dee0944-80f6-4970-b794-1bb567244022"
   },
   "outputs": [
    {
     "data": {
      "text/plain": [
       "array([0, 1])"
      ]
     },
     "execution_count": 67,
     "metadata": {},
     "output_type": "execute_result"
    }
   ],
   "source": [
    "np.unique(y_pred)"
   ]
  },
  {
   "cell_type": "code",
   "execution_count": null,
   "metadata": {
    "colab": {
     "base_uri": "https://localhost:8080/"
    },
    "id": "ZDhqlw9mSJeT",
    "outputId": "d84472b4-efc0-45aa-dbe1-8550d28cbc31"
   },
   "outputs": [
    {
     "data": {
      "text/plain": [
       "array([1])"
      ]
     },
     "execution_count": 68,
     "metadata": {},
     "output_type": "execute_result"
    }
   ],
   "source": [
    "np.unique(r)"
   ]
  },
  {
   "cell_type": "code",
   "execution_count": null,
   "metadata": {
    "colab": {
     "base_uri": "https://localhost:8080/"
    },
    "id": "UvbiHhedc9by",
    "outputId": "63b35f04-05d9-4c96-e13e-4b2a5fc59d42"
   },
   "outputs": [
    {
     "data": {
      "text/plain": [
       "array([[0, 0, 0, 1],\n",
       "       [0, 0, 0, 1],\n",
       "       [0, 0, 0, 1],\n",
       "       ...,\n",
       "       [0, 0, 0, 1],\n",
       "       [0, 0, 0, 1],\n",
       "       [0, 0, 0, 1]])"
      ]
     },
     "execution_count": 69,
     "metadata": {},
     "output_type": "execute_result"
    }
   ],
   "source": [
    "y_pred"
   ]
  },
  {
   "cell_type": "code",
   "execution_count": null,
   "metadata": {
    "id": "B9kTCpe_z5cW"
   },
   "outputs": [],
   "source": [
    "trainY"
   ]
  },
  {
   "cell_type": "code",
   "execution_count": null,
   "metadata": {
    "id": "XKi-fTjb8ZH6"
   },
   "outputs": [],
   "source": []
  }
 ],
 "metadata": {
  "colab": {
   "collapsed_sections": [],
   "name": "MLP.ipynb",
   "provenance": []
  },
  "kernelspec": {
   "display_name": "Python 3",
   "language": "python",
   "name": "python3"
  },
  "language_info": {
   "codemirror_mode": {
    "name": "ipython",
    "version": 3
   },
   "file_extension": ".py",
   "mimetype": "text/x-python",
   "name": "python",
   "nbconvert_exporter": "python",
   "pygments_lexer": "ipython3",
   "version": "3.7.4"
  }
 },
 "nbformat": 4,
 "nbformat_minor": 1
}
