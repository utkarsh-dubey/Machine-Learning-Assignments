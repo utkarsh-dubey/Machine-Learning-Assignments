{
 "cells": [
  {
   "cell_type": "code",
   "execution_count": 10,
   "id": "24f5a66c",
   "metadata": {},
   "outputs": [],
   "source": [
    "import numpy as np\n",
    "import matplotlib.pyplot as plt\n",
    "from math import *\n",
    "import pandas as pd\n",
    "import random\n",
    "from sklearn.tree import DecisionTreeClassifier\n",
    "from sklearn.metrics import confusion_matrix,f1_score,accuracy_score,precision_score,recall_score\n",
    "from sklearn.linear_model import Ridge, Lasso\n",
    "from sklearn.model_selection import GridSearchCV\n",
    "from sklearn.model_selection import cross_val_score \n",
    "np.set_printoptions(suppress=True)"
   ]
  },
  {
   "cell_type": "code",
   "execution_count": 11,
   "id": "6d5b35af",
   "metadata": {},
   "outputs": [],
   "source": [
    "#function to load the data and randomise it and normalise it further\n",
    "def loadData():\n",
    "    df = pd.read_csv('dataset.csv', sep=\",\", index_col=False)\n",
    "    df = df.sample(frac=1).reset_index(drop=True)\n",
    "    df=df[~np.isnan(df['pm2.5'])]\n",
    "    data=np.array(df)\n",
    "#     data=np.array(data,dtype=float)\n",
    "#     normalise(data)\n",
    "    x=np.concatenate((np.reshape(data[:,1],(-1,1)),data[:,3:]), axis=1)\n",
    "    y=np.reshape(data[:,2],(-1,1))\n",
    "    print(x.shape)\n",
    "    print(y.shape)\n",
    "    return x,y"
   ]
  },
  {
   "cell_type": "code",
   "execution_count": 12,
   "id": "a6bc9f1a",
   "metadata": {},
   "outputs": [],
   "source": [
    "#to normalise data, gets big data into range\n",
    "def normalise(data):\n",
    "    data = (data - np.mean(data,axis=0))/np.std(data, axis=0)\n",
    "    return data"
   ]
  },
  {
   "cell_type": "code",
   "execution_count": 13,
   "id": "53c145d2",
   "metadata": {},
   "outputs": [],
   "source": [
    "#encoding cbwd and adding columns for {'cv', 'SE', 'NE', 'NW'}\n",
    "def handleCBWD(x):\n",
    "    SE=np.zeros((x.shape[0],1))\n",
    "    NE=np.zeros((x.shape[0],1))\n",
    "    NW=np.zeros((x.shape[0],1))\n",
    "    cv=np.zeros((x.shape[0],1))\n",
    "    for i in range(x.shape[0]):\n",
    "        if(x[i][7]=='SE'):\n",
    "            SE[i]=1\n",
    "        elif(x[i][7]=='NE'):\n",
    "            NE[i]=1\n",
    "        elif(x[i][7]=='NW'):\n",
    "            NW[i]=1\n",
    "        elif(x[i][7]=='cv'):\n",
    "            cv[i]=1\n",
    "    \n",
    "    x=np.concatenate((x[:,:7],x[:,8:],SE,NE,NW,cv),axis=1)\n",
    "#     print(x.shape)\n",
    "#     print(x)\n",
    "    return x"
   ]
  },
  {
   "cell_type": "code",
   "execution_count": 14,
   "id": "9377bd9b",
   "metadata": {},
   "outputs": [],
   "source": [
    "#function to split dataset as required\n",
    "def train_val_test_split(x,y):\n",
    "    trainX=[]\n",
    "    testX=[]\n",
    "    trainY=[]\n",
    "    testY=[]\n",
    "    valX=[]\n",
    "    valY=[]\n",
    "    #we have train:val:test = 7:1.5:1.5\n",
    "    trainFreq=int((7/10)*x.shape[0])\n",
    "    valFreq=int((1.5/10)*x.shape[0])\n",
    "    for i in range(trainFreq):\n",
    "        trainX.append(x[i])\n",
    "        trainY.append(y[i])\n",
    "    for i in range(trainFreq,trainFreq+valFreq):\n",
    "        valX.append(x[i])\n",
    "        valY.append(y[i])\n",
    "    for i in range(trainFreq+valFreq,x.shape[0]):\n",
    "        testX.append(x[i])\n",
    "        testY.append(y[i])\n",
    "    \n",
    "    return np.array(trainX),np.array(trainY),np.array(valX),np.array(valY),np.array(testX),np.array(testY)"
   ]
  },
  {
   "cell_type": "code",
   "execution_count": 22,
   "id": "41f3bffe",
   "metadata": {},
   "outputs": [
    {
     "name": "stdout",
     "output_type": "stream",
     "text": [
      "(41757, 11)\n",
      "(41757, 1)\n"
     ]
    }
   ],
   "source": [
    "x,y=loadData()\n",
    "#we have 4 unique entries for cbwd, those are - {'cv', 'SE', 'NE', 'NW'}\n",
    "x=handleCBWD(x)\n",
    "x=x.astype(float)\n",
    "y=y.astype(float)\n",
    "#splitting dataset for train, val and test\n",
    "trainingX,trainingY,validatingX,validatingY,testingX,testingY = train_val_test_split(x,y)"
   ]
  },
  {
   "cell_type": "code",
   "execution_count": 27,
   "id": "ec100095",
   "metadata": {},
   "outputs": [
    {
     "name": "stdout",
     "output_type": "stream",
     "text": [
      "Accuracy score for gini  0.8102154828411812\n"
     ]
    }
   ],
   "source": [
    "#training and testing classifier with gini\n",
    "clfgini = DecisionTreeClassifier(criterion=\"gini\")      \n",
    "clfgini = clfgini.fit(trainingX,trainingY)\n",
    "print(\"Accuracy score for gini \",clfgini.score(testingX,testingY))"
   ]
  },
  {
   "cell_type": "code",
   "execution_count": 28,
   "id": "a4a71c5f",
   "metadata": {},
   "outputs": [
    {
     "name": "stdout",
     "output_type": "stream",
     "text": [
      "Accuracy score for entropy  0.8258579409417398\n"
     ]
    }
   ],
   "source": [
    "#training and testing classifier with entropy\n",
    "clfentropy = DecisionTreeClassifier(criterion=\"entropy\")      \n",
    "clfentropy = clfentropy.fit(trainingX,trainingY)\n",
    "print(\"Accuracy score for entropy \",clfentropy.score(testingX,testingY))"
   ]
  },
  {
   "cell_type": "code",
   "execution_count": 37,
   "id": "9ca229b3",
   "metadata": {},
   "outputs": [
    {
     "name": "stdout",
     "output_type": "stream",
     "text": [
      "Accuracy for depth = 2\n",
      "Testing accuracy  0.27885075818036714\n",
      "Training accuracy  0.2725033357282151\n",
      "\n",
      "\n",
      "Accuracy for depth = 4\n",
      "Testing accuracy  0.4057462090981644\n",
      "Training accuracy  0.39943207088850113\n",
      "\n",
      "\n",
      "Accuracy for depth = 8\n",
      "Testing accuracy  0.5680766161213089\n",
      "Training accuracy  0.5902357247938691\n",
      "\n",
      "\n",
      "Accuracy for depth = 10\n",
      "Testing accuracy  0.655706304868316\n",
      "Training accuracy  0.7102193027472715\n",
      "\n",
      "\n",
      "Accuracy for depth = 15\n",
      "Testing accuracy  0.8046288906624102\n",
      "Training accuracy  0.9560368127544562\n",
      "\n",
      "\n",
      "Accuracy for depth = 20\n",
      "Testing accuracy  0.8233040702314446\n",
      "Training accuracy  0.9977419685928359\n",
      "\n",
      "\n"
     ]
    },
    {
     "data": {
      "image/png": "[encoded data removed]",
      "text/plain": [
       "<Figure size 432x288 with 1 Axes>"
      ]
     },
     "metadata": {
      "needs_background": "light"
     },
     "output_type": "display_data"
    }
   ],
   "source": [
    "#trying out different depths\n",
    "depth=[2,4,8,10,15,20]\n",
    "testingAcc=[]\n",
    "trainingAcc=[]\n",
    "\n",
    "for i in depth:\n",
    "    clf = DecisionTreeClassifier(criterion='entropy',max_depth=i)\n",
    "    clf = clf.fit(trainingX,trainingY)\n",
    "    testAcc = clf.score(testingX,testingY)\n",
    "    trainAcc = clf.score(trainingX,trainingY)\n",
    "    print(\"Accuracy for depth =\",i)\n",
    "    print(\"Testing accuracy \", testAcc)\n",
    "    print(\"Training accuracy \", trainAcc)\n",
    "    print()\n",
    "    print()\n",
    "    testingAcc.append(testAcc*100)\n",
    "    trainingAcc.append(trainAcc*100)\n",
    "\n",
    "plt.plot(depth,testingAcc,'-o',depth,trainingAcc,'-o')\n",
    "plt.xlabel(\"Depth\")\n",
    "plt.ylabel(\"Accuracy\")\n",
    "plt.legend(['testing accuracy', 'training accuracy'])\n",
    "plt.show()\n",
    "    \n",
    "    \n"
   ]
  },
  {
   "cell_type": "code",
   "execution_count": null,
   "id": "370d9841",
   "metadata": {},
   "outputs": [],
   "source": []
  }
 ],
 "metadata": {
  "kernelspec": {
   "display_name": "Python 3",
   "language": "python",
   "name": "python3"
  },
  "language_info": {
   "codemirror_mode": {
    "name": "ipython",
    "version": 3
   },
   "file_extension": ".py",
   "mimetype": "text/x-python",
   "name": "python",
   "nbconvert_exporter": "python",
   "pygments_lexer": "ipython3",
   "version": "3.7.4"
  }
 },
 "nbformat": 4,
 "nbformat_minor": 5
}
