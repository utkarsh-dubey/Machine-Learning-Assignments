{
 "cells": [
  {
   "cell_type": "code",
   "execution_count": 23,
   "id": "95f036dc",
   "metadata": {},
   "outputs": [],
   "source": [
    "import numpy as np\n",
    "import matplotlib.pyplot as plt\n",
    "from math import *\n",
    "import pandas as pd\n",
    "import random\n",
    "from sklearn.linear_model import Ridge, Lasso\n",
    "from sklearn.model_selection import GridSearchCV\n",
    "from sklearn.model_selection import cross_val_score \n",
    "from copy import deepcopy\n",
    "from sklearn.naive_bayes import GaussianNB\n",
    "from sklearn import metrics\n",
    "from sklearn.metrics import confusion_matrix,f1_score,accuracy_score,precision_score,recall_score\n",
    "np.set_printoptions(suppress=True)"
   ]
  },
  {
   "cell_type": "code",
   "execution_count": 10,
   "id": "67b6abec",
   "metadata": {},
   "outputs": [],
   "source": [
    "def loadData():\n",
    "    df = pd.read_csv('fashion-mnist_train.csv', index_col=False)\n",
    "    df = df.sample(frac=1).reset_index(drop=True)   #shuffling the data\n",
    "    df=df[df['label']<3]\n",
    "    df=df[df['label']>0]\n",
    "    data=np.array(df,dtype=np.uint8)\n",
    "    df1 = pd.read_csv('fashion-mnist_test.csv', index_col=False)\n",
    "    df1 = df1.sample(frac=1).reset_index(drop=True)   #shuffling the data\n",
    "    df1=df1[df1['label']<3]\n",
    "    df1=df1[df1['label']>0]\n",
    "    data1 = np.array(df1,dtype=np.uint8)\n",
    "#     data = data[np.logical_not(np.logical_and(data[:,0] == 0, data[:,0] > 2))]\n",
    "#     data1 = np.delete(data1, np.where((data1[:, 0] == 0 ) & (data1[:, 0] >2))[0], axis=0)\n",
    "    print(\"checking\",np.where((data1[:, 0] == 0 ) & (data1[:, 0] >2))[0])\n",
    "    print(\"size\",data.shape)\n",
    "    xTrain=data[:,1:]\n",
    "    yTrain=data[:,:1]\n",
    "    xTest=data1[:,1:]\n",
    "    yTest=data1[:,:1]\n",
    "    \n",
    "    print(xTrain.shape)\n",
    "    \n",
    "    #binarising the image pixels to 0 and 255\n",
    "    xTrain[xTrain<128] = 0\n",
    "    xTrain[xTrain>=128] = 255\n",
    "    xTest[xTest<128] = 0\n",
    "    xTest[xTest>=128] = 255 \n",
    "    print(\"size\",xTest.shape,yTest.shape)\n",
    "    return xTrain,yTrain,xTest,yTest"
   ]
  },
  {
   "cell_type": "code",
   "execution_count": 3,
   "id": "ffb74eaa",
   "metadata": {},
   "outputs": [],
   "source": [
    "def predict(pixels,meanTrouser,meanPullover,stdTrouser,stdPullover,probabilityTrouser,probabilityPullover):\n",
    "    \n",
    "    #calculating probability for trousers\n",
    "#     print(\"pixelssss\",pixels.shape)\n",
    "    num = np.exp((-1/2)*(((pixels-meanTrouser)/stdTrouser)**2))\n",
    "    den = np.sqrt(2 * np.pi)*(stdTrouser)\n",
    "#     print(num.shape)\n",
    "#     print(den.shape)\n",
    "#     print(\"vvvvvvvvvvvvv\",den.shape[0])\n",
    "#     den[den==0]=1\n",
    "    for i in range(den.shape[0]):\n",
    "        if(den[i]<=1e-4):\n",
    "            num[i]=10**(-4)\n",
    "            den[i]=1\n",
    "        if(np.isnan(num[i])):\n",
    "            num[i]=10**(-4)\n",
    "            den[i]=1\n",
    "#     stdTrouser[stdTrouser<1e-6]=1e-7\n",
    "    probTrouserTemp = num/den\n",
    "#     np.exp(-1*(np.square(pixels-meanTrouser)/(2*(np.square(stdTrouser)))))/(np.sqrt(2*np.pi*np.square(stdTrouser)))\n",
    "    \n",
    "#     for i in range(len(probTrouserTemp)):\n",
    "#         if(probTrouserTemp[i]!=probTrouserTemp[i]):\n",
    "# #             print(\"bruh\",probTrouserTemp[i])\n",
    "#             if(pixels[i]!=meanTrouser[i] and stdTrouser[i]==0):\n",
    "#                 probTrouserTemp[i]=10**(-6)\n",
    "#             elif(pixels[i]==meanTrouser[i] and stdTrouser[i]==0):\n",
    "#                 probTrouserTemp[i]=1\n",
    "    probTrouserTemp=np.nan_to_num(probTrouserTemp)\n",
    "    probTrouserTemp[stdTrouser<1e-6]=1e-6\n",
    "    probTrouser=(np.sum(np.log(probTrouserTemp)))+np.log(probabilityTrouser)\n",
    "#     print(\"okay\",np.isnan(probTrouser))\n",
    "#     print(\"okay2\",np.isnan(np.sum(np.log(probTrouserTemp))))\n",
    "    #calculating probability for pullover\n",
    "    num1 = np.exp((-1/2)*(((pixels-meanPullover)/stdPullover)**2))\n",
    "    den1 = np.sqrt(2 * np.pi)*(stdPullover)\n",
    "    for i in range(den1.shape[0]):\n",
    "        if(den1[i]<=1e-4):\n",
    "            num1[i]=10**(-4)\n",
    "            den1[i]=1\n",
    "        if(np.isnan(num1[i])):\n",
    "            num1[i]=10**(-4)\n",
    "            den1[i]=1\n",
    "#     stdPullover[stdPullover<1e-6]=0\n",
    "    probPulloverTemp = num1/den1\n",
    "#     np.exp(-1*(np.square(pixels-meanPullover)/(2*(np.square(stdPullover)))))/(np.sqrt(2*np.pi*np.square(stdPullover)))\n",
    "\n",
    "#     for i in range(len(probPulloverTemp)):\n",
    "#         if(probPulloverTemp[i]!=probPulloverTemp[i]):\n",
    "# #             print(\"bruh\",probTrouserTemp[i])\n",
    "#             if(pixels[i]!=meanPullover[i] and stdPullover[i]==0):\n",
    "#                 probPulloverTemp[i]=10**(-6)\n",
    "#             elif(pixels[i]==meanPullover[i] and stdPullover[i]==0):\n",
    "#                 probPulloverTemp[i]=1\n",
    "#     probPulloverTemp=np.nan_to_num(probPulloverTemp)\n",
    "#     probPulloverTemp[stdPullover<1e-6]=1e-6\n",
    "    probPullover=(np.sum(np.log(probPulloverTemp)))+np.log(probabilityPullover)\n",
    "    \n",
    "#     print(\"gggggggggggggggggggg\",probTrouser)\n",
    "#     print(\"vvvvvvvvvvvvvvvvvvvvvvvvv\",probPullover)\n",
    "    if(probTrouser>probPullover):\n",
    "        return 1\n",
    "    else:\n",
    "        return 2\n",
    "    "
   ]
  },
  {
   "cell_type": "code",
   "execution_count": 13,
   "id": "85ac1027",
   "metadata": {},
   "outputs": [],
   "source": [
    "def bayes(xTrain,yTrain,xTest,yTest):\n",
    "    \n",
    "    #calcuating mean,standard deviation and probability for trousers\n",
    "    temp1=[]\n",
    "    for i in range(yTrain.shape[0]):\n",
    "        if(yTrain[i]==1):\n",
    "            temp1.append(xTrain[i])\n",
    "    temp1=np.array(temp1)\n",
    "    temp2=[]\n",
    "    for i in range(yTrain.shape[0]):\n",
    "        if(yTrain[i]==2):\n",
    "            temp2.append(xTrain[i])\n",
    "    temp2=np.array(temp2)\n",
    "    meanTrouser=np.mean(temp1,axis=0)\n",
    "    stdTrouser=np.std(temp1,axis=0)\n",
    "    probabilityTrouser=len(temp1)/len(xTrain)\n",
    "    \n",
    "    ##calcuating mean,standard deviation and probability for pullovers\n",
    "    meanPullover=np.mean(temp2,axis=0)\n",
    "    stdPullover=np.std(temp2,axis=0)\n",
    "    probabilityPullover=len(temp2)/len(xTrain)\n",
    "    \n",
    "    #forming confusion matrix for training\n",
    "    \n",
    "    size = xTrain.shape[0]\n",
    "    TP=0   #trouser positive\n",
    "    TN=0   #trouser negative\n",
    "    PP=0   #pullover negative   \n",
    "    PN=0   #pullover negative    \n",
    "\n",
    "    for i in range(size):\n",
    "        outcome = predict(xTrain[i],meanTrouser,meanPullover,stdTrouser,stdPullover,probabilityTrouser,probabilityPullover)\n",
    "        if(outcome==1 and outcome==yTrain[i]):\n",
    "            TP+=1\n",
    "        elif(outcome==1 and outcome!=yTrain[i]):\n",
    "            TN+=1\n",
    "        elif(outcome==2 and outcome==yTrain[i]):\n",
    "            PP+=1\n",
    "        else:\n",
    "            PN+=1\n",
    "    confusion=[[TP,TN],[PN,PP]]\n",
    "    confusionMatrix=np.array(confusion)\n",
    "    recall = TP/(TP+PN)\n",
    "    precision = TP/(TP+TN)\n",
    "    accuracy = (TP+PP)/size\n",
    "    \n",
    "    allInfoTrain=[accuracy,recall,precision,confusionMatrix]\n",
    "    \n",
    "    #forming confusion matrix for testing\n",
    "    \n",
    "    size = xTest.shape[0]\n",
    "    TP=0   #trouser positive\n",
    "    TN=0   #trouser negative\n",
    "    PP=0   #pullover negative   \n",
    "    PN=0   #pullover negative    \n",
    "\n",
    "    for i in range(size):\n",
    "        outcome = predict(xTest[i],meanTrouser,meanPullover,stdTrouser,stdPullover,probabilityTrouser,probabilityPullover)\n",
    "        if(outcome==1 and outcome==yTest[i]):\n",
    "            TP+=1\n",
    "        elif(outcome==1 and outcome!=yTest[i]):\n",
    "            TN+=1\n",
    "        elif(outcome==2 and outcome==yTest[i]):\n",
    "            PP+=1\n",
    "        else:\n",
    "            PN+=1\n",
    "    confusion1=[[TP,TN],[PN,PP]]\n",
    "    confusionMatrix1=np.array(confusion1)\n",
    "    recall = TP/(TP+PN)\n",
    "    precision = TP/(TP+TN)\n",
    "    accuracy = (TP+PP)/size\n",
    "    \n",
    "    allInfoTest=[accuracy,recall,precision,confusionMatrix1]\n",
    "    \n",
    "    \n",
    "    return allInfoTrain, allInfoTest\n",
    "    \n",
    "            \n",
    "    \n",
    "    \n",
    "    \n",
    "    "
   ]
  },
  {
   "cell_type": "code",
   "execution_count": 30,
   "id": "586e3c89",
   "metadata": {},
   "outputs": [],
   "source": [
    "def kFold(x,y,k):\n",
    "    minAccuracy=-inf\n",
    "    allInfoTrain=0\n",
    "    allInfoTest=0\n",
    "    \n",
    "    for i in range(k):\n",
    "        xTrain=np.concatenate((x[:i*(x.shape[0]//k)],x[(i+1)*(x.shape[0]//k):]))\n",
    "        yTrain=np.concatenate((y[:i*(y.shape[0]//k)],y[(i+1)*(y.shape[0]//k):]))\n",
    "        \n",
    "        xTest=x[i*(x.shape[0]//k):(i+1)*(x.shape[0]//k)]\n",
    "        yTest=y[i*(y.shape[0]//k):(i+1)*(y.shape[0]//k)]\n",
    "        \n",
    "        allInfoTrainTemp,allInfoTestTemp = bayes(xTrain,yTrain,xTest,yTest)\n",
    "        \n",
    "        print(\"Results for taking test set as \"+str(i+1)+\" fold\")\n",
    "        print(\"Train accuracy = \",allInfoTrainTemp[0])\n",
    "        print(\"Confusion Matrix for train set = \",allInfoTrainTemp[-1])\n",
    "        print(\"Recall for Train = \",allInfoTrainTemp[1])\n",
    "        print(\"Precision for Train = \",allInfoTrainTemp[2])\n",
    "        print(\"Test accuracy = \",allInfoTestTemp[0])\n",
    "        print(\"Confusion Matrix for test set = \",allInfoTestTemp[-1])\n",
    "        print(\"Recall for Test = \",allInfoTestTemp[1])\n",
    "        print(\"Precision for Test = \",allInfoTestTemp[2])\n",
    "        if(allInfoTestTemp[0]>minAccuracy):\n",
    "            minAccuracy=allInfoTestTemp[0]\n",
    "            allInfoTrain,allInfoTest = deepcopy(allInfoTrainTemp), deepcopy(allInfoTestTemp)\n",
    "    \n",
    "    return allInfoTrain,allInfoTest\n",
    "    "
   ]
  },
  {
   "cell_type": "code",
   "execution_count": 11,
   "id": "03994e5f",
   "metadata": {
    "scrolled": false
   },
   "outputs": [
    {
     "name": "stdout",
     "output_type": "stream",
     "text": [
      "checking []\n",
      "size (12000, 785)\n",
      "(12000, 784)\n",
      "size (2000, 784) (2000, 1)\n"
     ]
    }
   ],
   "source": [
    "xTrain,yTrain,xTest,yTest=loadData()"
   ]
  },
  {
   "cell_type": "code",
   "execution_count": 12,
   "id": "11817f13",
   "metadata": {
    "scrolled": false
   },
   "outputs": [
    {
     "name": "stderr",
     "output_type": "stream",
     "text": [
      "c:\\users\\utkarsh\\appdata\\local\\programs\\python\\python37\\lib\\site-packages\\ipykernel_launcher.py:5: RuntimeWarning: invalid value encountered in true_divide\n",
      "  \"\"\"\n",
      "c:\\users\\utkarsh\\appdata\\local\\programs\\python\\python37\\lib\\site-packages\\ipykernel_launcher.py:35: RuntimeWarning: invalid value encountered in true_divide\n",
      "c:\\users\\utkarsh\\appdata\\local\\programs\\python\\python37\\lib\\site-packages\\ipykernel_launcher.py:5: RuntimeWarning: divide by zero encountered in true_divide\n",
      "  \"\"\"\n",
      "c:\\users\\utkarsh\\appdata\\local\\programs\\python\\python37\\lib\\site-packages\\ipykernel_launcher.py:31: RuntimeWarning: divide by zero encountered in log\n",
      "c:\\users\\utkarsh\\appdata\\local\\programs\\python\\python37\\lib\\site-packages\\ipykernel_launcher.py:57: RuntimeWarning: divide by zero encountered in log\n",
      "c:\\users\\utkarsh\\appdata\\local\\programs\\python\\python37\\lib\\site-packages\\ipykernel_launcher.py:35: RuntimeWarning: divide by zero encountered in true_divide\n"
     ]
    },
    {
     "name": "stdout",
     "output_type": "stream",
     "text": [
      "Train accuracy =  0.9365833333333333\n",
      "Confusion Matrix for train set =  [[5242    3]\n",
      " [ 758 5997]]\n",
      "Test accuracy =  0.95\n",
      "Confusion Matrix for test set =  [[ 900    0]\n",
      " [ 100 1000]]\n"
     ]
    }
   ],
   "source": [
    "allInfoTrain, allInfoTest = bayes(xTrain,yTrain,xTest,yTest)\n",
    "\n",
    "print(\"Train accuracy = \",allInfoTrain[0])\n",
    "print(\"Confusion Matrix for train set = \",allInfoTrain[-1])\n",
    "print(\"Test accuracy = \",allInfoTest[0])\n",
    "print(\"Confusion Matrix for test set = \",allInfoTest[-1])"
   ]
  },
  {
   "cell_type": "code",
   "execution_count": 17,
   "id": "9e4df081",
   "metadata": {},
   "outputs": [
    {
     "name": "stderr",
     "output_type": "stream",
     "text": [
      "c:\\users\\utkarsh\\appdata\\local\\programs\\python\\python37\\lib\\site-packages\\ipykernel_launcher.py:5: RuntimeWarning: invalid value encountered in true_divide\n",
      "  \"\"\"\n",
      "c:\\users\\utkarsh\\appdata\\local\\programs\\python\\python37\\lib\\site-packages\\ipykernel_launcher.py:35: RuntimeWarning: invalid value encountered in true_divide\n",
      "c:\\users\\utkarsh\\appdata\\local\\programs\\python\\python37\\lib\\site-packages\\ipykernel_launcher.py:31: RuntimeWarning: divide by zero encountered in log\n",
      "c:\\users\\utkarsh\\appdata\\local\\programs\\python\\python37\\lib\\site-packages\\ipykernel_launcher.py:5: RuntimeWarning: divide by zero encountered in true_divide\n",
      "  \"\"\"\n",
      "c:\\users\\utkarsh\\appdata\\local\\programs\\python\\python37\\lib\\site-packages\\ipykernel_launcher.py:57: RuntimeWarning: divide by zero encountered in log\n",
      "c:\\users\\utkarsh\\appdata\\local\\programs\\python\\python37\\lib\\site-packages\\ipykernel_launcher.py:35: RuntimeWarning: divide by zero encountered in true_divide\n"
     ]
    },
    {
     "ename": "ZeroDivisionError",
     "evalue": "division by zero",
     "output_type": "error",
     "traceback": [
      "\u001b[1;31m---------------------------------------------------------------------------\u001b[0m",
      "\u001b[1;31mZeroDivisionError\u001b[0m                         Traceback (most recent call last)",
      "\u001b[1;32m<ipython-input-17-ae04033bfee2>\u001b[0m in \u001b[0;36m<module>\u001b[1;34m\u001b[0m\n\u001b[0;32m      1\u001b[0m \u001b[1;31m# 2 fold\u001b[0m\u001b[1;33m\u001b[0m\u001b[1;33m\u001b[0m\u001b[1;33m\u001b[0m\u001b[0m\n\u001b[1;32m----> 2\u001b[1;33m \u001b[0mallInfoTrain\u001b[0m\u001b[1;33m,\u001b[0m \u001b[0mallInfoTest\u001b[0m \u001b[1;33m=\u001b[0m \u001b[0mkFold\u001b[0m\u001b[1;33m(\u001b[0m\u001b[0mxTrain\u001b[0m\u001b[1;33m,\u001b[0m\u001b[0myTrain\u001b[0m\u001b[1;33m,\u001b[0m\u001b[1;36m2\u001b[0m\u001b[1;33m)\u001b[0m\u001b[1;33m\u001b[0m\u001b[1;33m\u001b[0m\u001b[0m\n\u001b[0m\u001b[0;32m      3\u001b[0m \u001b[1;33m\u001b[0m\u001b[0m\n\u001b[0;32m      4\u001b[0m \u001b[0mprint\u001b[0m\u001b[1;33m(\u001b[0m\u001b[1;34m\"Train accuracy = \"\u001b[0m\u001b[1;33m,\u001b[0m\u001b[0mallInfoTrain\u001b[0m\u001b[1;33m[\u001b[0m\u001b[1;36m0\u001b[0m\u001b[1;33m]\u001b[0m\u001b[1;33m)\u001b[0m\u001b[1;33m\u001b[0m\u001b[1;33m\u001b[0m\u001b[0m\n\u001b[0;32m      5\u001b[0m \u001b[0mprint\u001b[0m\u001b[1;33m(\u001b[0m\u001b[1;34m\"Confusion Matrix for train set = \"\u001b[0m\u001b[1;33m,\u001b[0m\u001b[0mallInfoTrain\u001b[0m\u001b[1;33m[\u001b[0m\u001b[1;33m-\u001b[0m\u001b[1;36m1\u001b[0m\u001b[1;33m]\u001b[0m\u001b[1;33m)\u001b[0m\u001b[1;33m\u001b[0m\u001b[1;33m\u001b[0m\u001b[0m\n",
      "\u001b[1;32m<ipython-input-16-1603834800b1>\u001b[0m in \u001b[0;36mkFold\u001b[1;34m(x, y, k)\u001b[0m\n\u001b[0;32m     11\u001b[0m         \u001b[0myTest\u001b[0m\u001b[1;33m=\u001b[0m\u001b[0my\u001b[0m\u001b[1;33m[\u001b[0m\u001b[0mi\u001b[0m\u001b[1;33m*\u001b[0m\u001b[1;33m(\u001b[0m\u001b[0my\u001b[0m\u001b[1;33m.\u001b[0m\u001b[0mshape\u001b[0m\u001b[1;33m[\u001b[0m\u001b[1;36m0\u001b[0m\u001b[1;33m]\u001b[0m\u001b[1;33m//\u001b[0m\u001b[0mk\u001b[0m\u001b[1;33m)\u001b[0m\u001b[1;33m:\u001b[0m\u001b[1;33m(\u001b[0m\u001b[0mi\u001b[0m\u001b[1;33m+\u001b[0m\u001b[1;36m1\u001b[0m\u001b[1;33m)\u001b[0m\u001b[1;33m*\u001b[0m\u001b[1;33m(\u001b[0m\u001b[0my\u001b[0m\u001b[1;33m.\u001b[0m\u001b[0mshape\u001b[0m\u001b[1;33m[\u001b[0m\u001b[1;36m0\u001b[0m\u001b[1;33m]\u001b[0m\u001b[1;33m//\u001b[0m\u001b[0mk\u001b[0m\u001b[1;33m)\u001b[0m\u001b[1;33m]\u001b[0m\u001b[1;33m\u001b[0m\u001b[1;33m\u001b[0m\u001b[0m\n\u001b[0;32m     12\u001b[0m \u001b[1;33m\u001b[0m\u001b[0m\n\u001b[1;32m---> 13\u001b[1;33m         \u001b[0mallInfoTrainTemp\u001b[0m\u001b[1;33m,\u001b[0m\u001b[0mallInfoTestTemp\u001b[0m \u001b[1;33m=\u001b[0m \u001b[0mbayes\u001b[0m\u001b[1;33m(\u001b[0m\u001b[0mxTrain\u001b[0m\u001b[1;33m,\u001b[0m\u001b[0myTrain\u001b[0m\u001b[1;33m,\u001b[0m\u001b[0mxTest\u001b[0m\u001b[1;33m,\u001b[0m\u001b[0myTest\u001b[0m\u001b[1;33m)\u001b[0m\u001b[1;33m\u001b[0m\u001b[1;33m\u001b[0m\u001b[0m\n\u001b[0m\u001b[0;32m     14\u001b[0m \u001b[1;33m\u001b[0m\u001b[0m\n\u001b[0;32m     15\u001b[0m         \u001b[1;32mif\u001b[0m\u001b[1;33m(\u001b[0m\u001b[0mallInfoTestTemp\u001b[0m\u001b[1;33m[\u001b[0m\u001b[1;36m0\u001b[0m\u001b[1;33m]\u001b[0m\u001b[1;33m>\u001b[0m\u001b[0mminAccuracy\u001b[0m\u001b[1;33m)\u001b[0m\u001b[1;33m:\u001b[0m\u001b[1;33m\u001b[0m\u001b[1;33m\u001b[0m\u001b[0m\n",
      "\u001b[1;32m<ipython-input-13-800a57e5dd18>\u001b[0m in \u001b[0;36mbayes\u001b[1;34m(xTrain, yTrain, xTest, yTest)\u001b[0m\n\u001b[0;32m     42\u001b[0m     \u001b[0mconfusionMatrix\u001b[0m\u001b[1;33m=\u001b[0m\u001b[0mnp\u001b[0m\u001b[1;33m.\u001b[0m\u001b[0marray\u001b[0m\u001b[1;33m(\u001b[0m\u001b[0mconfusion\u001b[0m\u001b[1;33m)\u001b[0m\u001b[1;33m\u001b[0m\u001b[1;33m\u001b[0m\u001b[0m\n\u001b[0;32m     43\u001b[0m     \u001b[0mrecall\u001b[0m \u001b[1;33m=\u001b[0m \u001b[0mTP\u001b[0m\u001b[1;33m/\u001b[0m\u001b[1;33m(\u001b[0m\u001b[0mTP\u001b[0m\u001b[1;33m+\u001b[0m\u001b[0mPN\u001b[0m\u001b[1;33m)\u001b[0m\u001b[1;33m\u001b[0m\u001b[1;33m\u001b[0m\u001b[0m\n\u001b[1;32m---> 44\u001b[1;33m     \u001b[0mprecision\u001b[0m \u001b[1;33m=\u001b[0m \u001b[0mTP\u001b[0m\u001b[1;33m/\u001b[0m\u001b[1;33m(\u001b[0m\u001b[0mTP\u001b[0m\u001b[1;33m+\u001b[0m\u001b[0mTN\u001b[0m\u001b[1;33m)\u001b[0m\u001b[1;33m\u001b[0m\u001b[1;33m\u001b[0m\u001b[0m\n\u001b[0m\u001b[0;32m     45\u001b[0m     \u001b[0maccuracy\u001b[0m \u001b[1;33m=\u001b[0m \u001b[1;33m(\u001b[0m\u001b[0mTP\u001b[0m\u001b[1;33m+\u001b[0m\u001b[0mPP\u001b[0m\u001b[1;33m)\u001b[0m\u001b[1;33m/\u001b[0m\u001b[0msize\u001b[0m\u001b[1;33m\u001b[0m\u001b[1;33m\u001b[0m\u001b[0m\n\u001b[0;32m     46\u001b[0m \u001b[1;33m\u001b[0m\u001b[0m\n",
      "\u001b[1;31mZeroDivisionError\u001b[0m: division by zero"
     ]
    }
   ],
   "source": [
    "# 2 fold\n",
    "allInfoTrain, allInfoTest = kFold(xTrain,yTrain,2)\n",
    "\n",
    "print(\"Train accuracy = \",allInfoTrain[0])\n",
    "print(\"Confusion Matrix for train set = \",allInfoTrain[-1])\n",
    "print(\"Test accuracy = \",allInfoTest[0])\n",
    "print(\"Confusion Matrix for test set = \",allInfoTest[-1])"
   ]
  },
  {
   "cell_type": "code",
   "execution_count": 18,
   "id": "3b66891e",
   "metadata": {},
   "outputs": [
    {
     "name": "stderr",
     "output_type": "stream",
     "text": [
      "c:\\users\\utkarsh\\appdata\\local\\programs\\python\\python37\\lib\\site-packages\\ipykernel_launcher.py:5: RuntimeWarning: invalid value encountered in true_divide\n",
      "  \"\"\"\n",
      "c:\\users\\utkarsh\\appdata\\local\\programs\\python\\python37\\lib\\site-packages\\ipykernel_launcher.py:31: RuntimeWarning: divide by zero encountered in log\n",
      "c:\\users\\utkarsh\\appdata\\local\\programs\\python\\python37\\lib\\site-packages\\ipykernel_launcher.py:35: RuntimeWarning: invalid value encountered in true_divide\n",
      "c:\\users\\utkarsh\\appdata\\local\\programs\\python\\python37\\lib\\site-packages\\ipykernel_launcher.py:5: RuntimeWarning: divide by zero encountered in true_divide\n",
      "  \"\"\"\n",
      "c:\\users\\utkarsh\\appdata\\local\\programs\\python\\python37\\lib\\site-packages\\ipykernel_launcher.py:57: RuntimeWarning: divide by zero encountered in log\n",
      "c:\\users\\utkarsh\\appdata\\local\\programs\\python\\python37\\lib\\site-packages\\ipykernel_launcher.py:35: RuntimeWarning: divide by zero encountered in true_divide\n"
     ]
    },
    {
     "name": "stdout",
     "output_type": "stream",
     "text": [
      "Train accuracy =  0.936125\n",
      "Confusion Matrix for train set =  [[3478    2]\n",
      " [ 509 4011]]\n",
      "Test accuracy =  0.9395\n",
      "Confusion Matrix for test set =  [[1774    3]\n",
      " [ 239 1984]]\n"
     ]
    }
   ],
   "source": [
    "# 3 fold\n",
    "allInfoTrain, allInfoTest = kFold(xTrain,yTrain,3)\n",
    "\n",
    "print(\"Train accuracy = \",allInfoTrain[0])\n",
    "print(\"Confusion Matrix for train set = \",allInfoTrain[-1])\n",
    "print(\"Test accuracy = \",allInfoTest[0])\n",
    "print(\"Confusion Matrix for test set = \",allInfoTest[-1])"
   ]
  },
  {
   "cell_type": "code",
   "execution_count": 19,
   "id": "19e0472c",
   "metadata": {},
   "outputs": [
    {
     "name": "stderr",
     "output_type": "stream",
     "text": [
      "c:\\users\\utkarsh\\appdata\\local\\programs\\python\\python37\\lib\\site-packages\\ipykernel_launcher.py:5: RuntimeWarning: invalid value encountered in true_divide\n",
      "  \"\"\"\n",
      "c:\\users\\utkarsh\\appdata\\local\\programs\\python\\python37\\lib\\site-packages\\ipykernel_launcher.py:35: RuntimeWarning: invalid value encountered in true_divide\n",
      "c:\\users\\utkarsh\\appdata\\local\\programs\\python\\python37\\lib\\site-packages\\ipykernel_launcher.py:31: RuntimeWarning: divide by zero encountered in log\n",
      "c:\\users\\utkarsh\\appdata\\local\\programs\\python\\python37\\lib\\site-packages\\ipykernel_launcher.py:35: RuntimeWarning: divide by zero encountered in true_divide\n",
      "c:\\users\\utkarsh\\appdata\\local\\programs\\python\\python37\\lib\\site-packages\\ipykernel_launcher.py:57: RuntimeWarning: divide by zero encountered in log\n",
      "c:\\users\\utkarsh\\appdata\\local\\programs\\python\\python37\\lib\\site-packages\\ipykernel_launcher.py:5: RuntimeWarning: divide by zero encountered in true_divide\n",
      "  \"\"\"\n"
     ]
    },
    {
     "name": "stdout",
     "output_type": "stream",
     "text": [
      "Train accuracy =  0.9402222222222222\n",
      "Confusion Matrix for train set =  [[3972    5]\n",
      " [ 533 4490]]\n",
      "Test accuracy =  0.9456666666666667\n",
      "Confusion Matrix for test set =  [[1334    2]\n",
      " [ 161 1503]]\n"
     ]
    }
   ],
   "source": [
    "# 4 fold\n",
    "allInfoTrain, allInfoTest = kFold(xTrain,yTrain,4)\n",
    "\n",
    "print(\"Train accuracy = \",allInfoTrain[0])\n",
    "print(\"Confusion Matrix for train set = \",allInfoTrain[-1])\n",
    "print(\"Test accuracy = \",allInfoTest[0])\n",
    "print(\"Confusion Matrix for test set = \",allInfoTest[-1])"
   ]
  },
  {
   "cell_type": "code",
   "execution_count": 31,
   "id": "5dd84573",
   "metadata": {},
   "outputs": [
    {
     "name": "stderr",
     "output_type": "stream",
     "text": [
      "c:\\users\\utkarsh\\appdata\\local\\programs\\python\\python37\\lib\\site-packages\\ipykernel_launcher.py:5: RuntimeWarning: invalid value encountered in true_divide\n",
      "  \"\"\"\n",
      "c:\\users\\utkarsh\\appdata\\local\\programs\\python\\python37\\lib\\site-packages\\ipykernel_launcher.py:35: RuntimeWarning: invalid value encountered in true_divide\n",
      "c:\\users\\utkarsh\\appdata\\local\\programs\\python\\python37\\lib\\site-packages\\ipykernel_launcher.py:31: RuntimeWarning: divide by zero encountered in log\n",
      "c:\\users\\utkarsh\\appdata\\local\\programs\\python\\python37\\lib\\site-packages\\ipykernel_launcher.py:5: RuntimeWarning: divide by zero encountered in true_divide\n",
      "  \"\"\"\n",
      "c:\\users\\utkarsh\\appdata\\local\\programs\\python\\python37\\lib\\site-packages\\ipykernel_launcher.py:57: RuntimeWarning: divide by zero encountered in log\n",
      "c:\\users\\utkarsh\\appdata\\local\\programs\\python\\python37\\lib\\site-packages\\ipykernel_launcher.py:35: RuntimeWarning: divide by zero encountered in true_divide\n"
     ]
    },
    {
     "name": "stdout",
     "output_type": "stream",
     "text": [
      "Results for taking test set as 1 fold\n",
      "Train accuracy =  0.921875\n",
      "Confusion Matrix for train set =  [[4099    2]\n",
      " [ 748 4751]]\n",
      "Recall for Train =  0.8456777388075098\n",
      "Precision for Train =  0.9995123140697391\n",
      "Test accuracy =  0.9325\n",
      "Confusion Matrix for test set =  [[ 991    0]\n",
      " [ 162 1247]]\n",
      "Recall for Test =  0.8594969644405898\n",
      "Precision for Test =  1.0\n",
      "Results for taking test set as 2 fold\n",
      "Train accuracy =  0.8878125\n",
      "Confusion Matrix for train set =  [[3708    2]\n",
      " [1075 4815]]\n",
      "Recall for Train =  0.7752456617185867\n",
      "Precision for Train =  0.9994609164420485\n",
      "Test accuracy =  0.8808333333333334\n",
      "Confusion Matrix for test set =  [[ 931    0]\n",
      " [ 286 1183]]\n",
      "Recall for Test =  0.7649958915365653\n",
      "Precision for Test =  1.0\n",
      "Results for taking test set as 3 fold\n",
      "Train accuracy =  0.9132291666666666\n",
      "Confusion Matrix for train set =  [[3954    2]\n",
      " [ 831 4813]]\n",
      "Recall for Train =  0.826332288401254\n",
      "Precision for Train =  0.9994944388270981\n",
      "Test accuracy =  0.9095833333333333\n",
      "Confusion Matrix for test set =  [[ 999    1]\n",
      " [ 216 1184]]\n",
      "Recall for Test =  0.8222222222222222\n",
      "Precision for Test =  0.999\n",
      "Results for taking test set as 4 fold\n",
      "Train accuracy =  0.9354166666666667\n",
      "Confusion Matrix for train set =  [[4162    2]\n",
      " [ 618 4818]]\n",
      "Recall for Train =  0.8707112970711297\n",
      "Precision for Train =  0.9995196926032661\n",
      "Test accuracy =  0.9341666666666667\n",
      "Confusion Matrix for test set =  [[1063    1]\n",
      " [ 157 1179]]\n",
      "Recall for Test =  0.8713114754098361\n",
      "Precision for Test =  0.9990601503759399\n",
      "Results for taking test set as 5 fold\n",
      "Train accuracy =  0.936875\n",
      "Confusion Matrix for train set =  [[4202    3]\n",
      " [ 603 4792]]\n",
      "Recall for Train =  0.8745057232049948\n",
      "Precision for Train =  0.9992865636147443\n",
      "Test accuracy =  0.9404166666666667\n",
      "Confusion Matrix for test set =  [[1054    2]\n",
      " [ 141 1203]]\n",
      "Recall for Test =  0.8820083682008368\n",
      "Precision for Test =  0.9981060606060606\n"
     ]
    }
   ],
   "source": [
    "# 5 fold\n",
    "allInfoTrain, allInfoTest = kFold(xTrain,yTrain,5)\n",
    "\n",
    "# print(\"Train accuracy = \",allInfoTrain[0])\n",
    "# print(\"Confusion Matrix for train set = \",allInfoTrain[-1])\n",
    "# print(\"Recall for Train = \",allInfoTrain[1])\n",
    "# print(\"Precision for Train = \",allInfoTrain[2])\n",
    "# print(\"Test accuracy = \",allInfoTest[0])\n",
    "# print(\"Confusion Matrix for test set = \",allInfoTest[-1])\n",
    "# print(\"Recall for Test = \",allInfoTest[1])\n",
    "# print(\"Precision for Test = \",allInfoTest[2])\n",
    "\n"
   ]
  },
  {
   "cell_type": "code",
   "execution_count": 33,
   "id": "7081ebda",
   "metadata": {},
   "outputs": [
    {
     "name": "stderr",
     "output_type": "stream",
     "text": [
      "c:\\users\\utkarsh\\appdata\\local\\programs\\python\\python37\\lib\\site-packages\\sklearn\\utils\\validation.py:63: DataConversionWarning: A column-vector y was passed when a 1d array was expected. Please change the shape of y to (n_samples, ), for example using ravel().\n",
      "  return f(*args, **kwargs)\n",
      "No handles with labels found to put in legend.\n"
     ]
    },
    {
     "name": "stdout",
     "output_type": "stream",
     "text": [
      "Confusion Matrix -  [[968  32]\n",
      " [108 892]]\n",
      "Accuracy using sklearn : 0.93\n",
      "Precision using sklearn: 0.8996282527881041\n",
      "Recall using sklearn: 0.968\n",
      "f1 score using sklearn: 0.932562620423892\n"
     ]
    },
    {
     "data": {
      "image/png": "[encoded data removed]",
      "text/plain": [
       "<Figure size 432x288 with 1 Axes>"
      ]
     },
     "metadata": {
      "needs_background": "light"
     },
     "output_type": "display_data"
    }
   ],
   "source": [
    "clf = GaussianNB()\n",
    "clf.fit(xTrain,yTrain)\n",
    "yPred=clf.predict(xTest)\n",
    "print(\"Confusion Matrix - \",confusion_matrix(yTest, yPred))\n",
    "print(\"Accuracy using sklearn :\",accuracy_score(yTest,yPred))\n",
    "print(\"Precision using sklearn:\",precision_score(yTest, yPred))\n",
    "print(\"Recall using sklearn:\",recall_score(yTest, yPred))\n",
    "print(\"f1 score using sklearn:\",f1_score(yTest, yPred))\n",
    "y_pred_proba = clf.predict_proba(xTest)[::,1]\n",
    "fpr, tpr, _ = metrics.roc_curve(yTest,  y_pred_proba,pos_label=1)\n",
    "plt.plot(tpr,fpr)\n",
    "plt.legend(loc=4)\n",
    "plt.show()"
   ]
  },
  {
   "cell_type": "code",
   "execution_count": null,
   "id": "a01206fb",
   "metadata": {},
   "outputs": [],
   "source": []
  }
 ],
 "metadata": {
  "kernelspec": {
   "display_name": "Python 3",
   "language": "python",
   "name": "python3"
  },
  "language_info": {
   "codemirror_mode": {
    "name": "ipython",
    "version": 3
   },
   "file_extension": ".py",
   "mimetype": "text/x-python",
   "name": "python",
   "nbconvert_exporter": "python",
   "pygments_lexer": "ipython3",
   "version": "3.7.4"
  }
 },
 "nbformat": 4,
 "nbformat_minor": 5
}
