{
 "cells": [
  {
   "cell_type": "code",
   "execution_count": 48,
   "id": "004c5437",
   "metadata": {},
   "outputs": [],
   "source": [
    "import numpy as np\n",
    "import matplotlib.pyplot as plt\n",
    "from math import *\n",
    "import pandas as pd\n",
    "import random\n",
    "from sklearn.linear_model import LogisticRegression\n",
    "from sklearn.metrics import confusion_matrix,f1_score,accuracy_score,precision_score,recall_score\n",
    "np.set_printoptions(suppress=True)"
   ]
  },
  {
   "cell_type": "code",
   "execution_count": 7,
   "id": "5ae19d03",
   "metadata": {},
   "outputs": [],
   "source": [
    "#function to load the data and randomise it and normalise it further\n",
    "def loadData():\n",
    "    df = pd.read_csv('diabetes2.csv', index_col=False)\n",
    "    df = df.sample(frac=1).reset_index(drop=True)   #shuffling the data\n",
    "    data=np.array(df,dtype=float)\n",
    "        \n",
    "#     print(df)\n",
    "#     print(data)\n",
    "#     normalise(data)\n",
    "    x=data[:,:8]\n",
    "    y=data[:,-1]\n",
    "#     print(x)\n",
    "#     print(y)\n",
    "    return x,y\n",
    "    "
   ]
  },
  {
   "cell_type": "code",
   "execution_count": 8,
   "id": "db6c918b",
   "metadata": {},
   "outputs": [],
   "source": [
    "def train_val_test_split(x,y):\n",
    "    trainX=[]\n",
    "    testX=[]\n",
    "    trainY=[]\n",
    "    testY=[]\n",
    "    valX=[]\n",
    "    valY=[]\n",
    "    #we have train:val:test = 7:2:1\n",
    "    trainFreq=int((7/10)*x.shape[0])\n",
    "    valFreq=int((2/10)*x.shape[0])\n",
    "    for i in range(trainFreq):\n",
    "        trainX.append(x[i])\n",
    "        trainY.append(y[i])\n",
    "    for i in range(trainFreq,trainFreq+valFreq):\n",
    "        valX.append(x[i])\n",
    "        valY.append(y[i])\n",
    "    for i in range(trainFreq+valFreq,x.shape[0]):\n",
    "        testX.append(x[i])\n",
    "        testY.append(y[i])\n",
    "    \n",
    "    return np.array(trainX),np.array(trainY),np.array(valX),np.array(valY),np.array(testX),np.array(testY)\n",
    "    "
   ]
  },
  {
   "cell_type": "code",
   "execution_count": 9,
   "id": "f676263a",
   "metadata": {},
   "outputs": [],
   "source": [
    "def sigmoid(z):\n",
    "    return 1/(1+np.exp(-z))"
   ]
  },
  {
   "cell_type": "code",
   "execution_count": 10,
   "id": "5b7ebcb9",
   "metadata": {},
   "outputs": [],
   "source": [
    "def cost(x,y,theta):\n",
    "    m=x.shape[0]\n",
    "    return (-1*((y.T@np.log(sigmoid(x@theta))) + (1-y).T @ np.log(1 - sigmoid(x@theta)))/m)"
   ]
  },
  {
   "cell_type": "code",
   "execution_count": 11,
   "id": "10931243",
   "metadata": {},
   "outputs": [],
   "source": [
    "#performing gradient decent to find the minimal cost\n",
    "def gradientDecent(x,y,theta,learningRate,epoch,valX,valY,typeGD):\n",
    "    \n",
    "    m=x.shape[0]  #number of entries in data\n",
    "    allJ=[]\n",
    "    allJVal=[]\n",
    "    if(typeGD=='bgd'):\n",
    "        for i in range(epoch):\n",
    "            tempCost=(x.T@(sigmoid(x@theta)-y))/m\n",
    "    #         print(\"tempcost\",tempCost.shape)\n",
    "            theta-=(learningRate)*tempCost\n",
    "            allJ.append(cost(x,y,theta)[0][0])\n",
    "            allJVal.append(cost(valX,valY,theta)[0][0])\n",
    "\n",
    "        return theta, allJ, allJVal\n",
    "    else:\n",
    "        for i in range(epoch):\n",
    "            point=random.randint(x.shape[0])\n",
    "        return 0\n",
    "            \n",
    "            "
   ]
  },
  {
   "cell_type": "code",
   "execution_count": 55,
   "id": "9e8a80c5",
   "metadata": {},
   "outputs": [],
   "source": [
    "def logisticRegression(learningRate,trainingX,trainingY,validatingX,validatingY):\n",
    "    \n",
    "    theta=np.zeros((trainingX.shape[1],1))\n",
    "    theta, allJ, allJVal = gradientDecent(trainingX,trainingY,theta,learningRate,100000,validatingX,validatingY,'bgd') #we have a learning rate of 0.1 and 100000 epoch\n",
    "\n",
    "    J=cost(trainingX,trainingY,theta)\n",
    "    JVal=cost(validatingX,validatingY,theta)\n",
    "    print(\"The data below is for a learning rate = \",learningRate)\n",
    "    print(\"cost training: \",J[0][0])\n",
    "    print(\"parameters: \", theta)\n",
    "    print(\"cost validating\",JVal[0][0])\n",
    "    \n",
    "    allJ=np.array(allJ)\n",
    "    allJVal=np.array(allJVal)\n",
    "    # print(allJ)\n",
    "    plt.plot(allJ)\n",
    "    plt.title(\"loss vs epoch for training set\")\n",
    "    plt.ylabel('loss')\n",
    "    plt.xlabel('epoch')\n",
    "    plt.show()\n",
    "    plt.plot(allJVal)\n",
    "    plt.title(\"loss vs epoch for validating set\")\n",
    "    plt.ylabel('loss')\n",
    "    plt.xlabel('epoch')\n",
    "    plt.show()\n",
    "    print(\"-----------------------------------\\n\\n\")\n",
    "    return theta\n"
   ]
  },
  {
   "cell_type": "code",
   "execution_count": 56,
   "id": "f9a8d4d9",
   "metadata": {
    "scrolled": true
   },
   "outputs": [
    {
     "name": "stdout",
     "output_type": "stream",
     "text": [
      "(768, 8)\n",
      "(768, 1)\n",
      "(153, 9)\n",
      "The data below is for a learning rate =  0.0001\n",
      "cost training:  0.5917155555901056\n",
      "parameters:  [[-0.39823252]\n",
      " [ 0.11511837]\n",
      " [ 0.01372316]\n",
      " [-0.03071224]\n",
      " [ 0.00538453]\n",
      " [ 0.00045255]\n",
      " [ 0.00150837]\n",
      " [ 0.08557941]\n",
      " [-0.01035048]]\n",
      "cost validating 0.5994257143502973\n"
     ]
    },
    {
     "data": {
      "image/png": "[encoded data removed]",
      "text/plain": [
       "<Figure size 432x288 with 1 Axes>"
      ]
     },
     "metadata": {
      "needs_background": "light"
     },
     "output_type": "display_data"
    },
    {
     "data": {
      "image/png": "[encoded data removed]",
      "text/plain": [
       "<Figure size 432x288 with 1 Axes>"
      ]
     },
     "metadata": {
      "needs_background": "light"
     },
     "output_type": "display_data"
    },
    {
     "name": "stdout",
     "output_type": "stream",
     "text": [
      "-----------------------------------\n",
      "\n",
      "\n"
     ]
    }
   ],
   "source": [
    "#performing logistic regression by invoking all the functions\n",
    "x,y = loadData()\n",
    "# print(x.shape)\n",
    "# print(y.shape)\n",
    "y=np.reshape(y,(-1,1))\n",
    "print(x.shape)\n",
    "print(y.shape)\n",
    "x = np.hstack((np.ones((x.shape[0],1)),x)) #adding a column of 1s for matrix multiplication\n",
    "trainingX,trainingY,validatingX,validatingY,testingX,testingY = train_val_test_split(x,y)\n",
    "print(validatingX.shape)\n",
    "\n",
    "thetaImp=logisticRegression(0.0001,trainingX,trainingY,validatingX,validatingY)\n"
   ]
  },
  {
   "cell_type": "code",
   "execution_count": 14,
   "id": "f63de70e",
   "metadata": {},
   "outputs": [
    {
     "name": "stderr",
     "output_type": "stream",
     "text": [
      "c:\\users\\utkarsh\\appdata\\local\\programs\\python\\python37\\lib\\site-packages\\ipykernel_launcher.py:3: RuntimeWarning: divide by zero encountered in log\n",
      "  This is separate from the ipykernel package so we can avoid doing imports until\n",
      "c:\\users\\utkarsh\\appdata\\local\\programs\\python\\python37\\lib\\site-packages\\ipykernel_launcher.py:3: RuntimeWarning: invalid value encountered in matmul\n",
      "  This is separate from the ipykernel package so we can avoid doing imports until\n"
     ]
    },
    {
     "name": "stdout",
     "output_type": "stream",
     "text": [
      "The data below is for a learning rate =  0.01\n",
      "cost training:  nan\n",
      "parameters:  [[-35.98312896]\n",
      " [  3.47415018]\n",
      " [  0.58363183]\n",
      " [ -0.79120899]\n",
      " [  0.09283451]\n",
      " [  0.07926769]\n",
      " [  0.00090858]\n",
      " [  6.24386226]\n",
      " [ -0.15324181]]\n",
      "cost validating nan\n"
     ]
    },
    {
     "data": {
      "image/png": "[encoded data removed]",
      "text/plain": [
       "<Figure size 432x288 with 1 Axes>"
      ]
     },
     "metadata": {
      "needs_background": "light"
     },
     "output_type": "display_data"
    },
    {
     "data": {
      "image/png": "[encoded data removed]",
      "text/plain": [
       "<Figure size 432x288 with 1 Axes>"
      ]
     },
     "metadata": {
      "needs_background": "light"
     },
     "output_type": "display_data"
    },
    {
     "name": "stdout",
     "output_type": "stream",
     "text": [
      "-----------------------------------\n",
      "\n",
      "\n"
     ]
    }
   ],
   "source": [
    "testThetalogisticRegression(0.01,trainingX,trainingY,validatingX,validatingY)"
   ]
  },
  {
   "cell_type": "code",
   "execution_count": 34,
   "id": "3e28b9cf",
   "metadata": {
    "scrolled": true
   },
   "outputs": [
    {
     "name": "stdout",
     "output_type": "stream",
     "text": [
      "The data below is for a learning rate =  0.0001\n",
      "cost training:  0.6216236953700602\n",
      "parameters:  [[-0.00390698]\n",
      " [ 0.01466318]\n",
      " [ 0.01191918]\n",
      " [-0.02734621]\n",
      " [ 0.00330402]\n",
      " [ 0.00095815]\n",
      " [-0.0052755 ]\n",
      " [ 0.00050504]\n",
      " [-0.0017053 ]]\n",
      "cost validating 0.6327922018969919\n"
     ]
    },
    {
     "data": {
      "image/png": "[encoded data removed]",
      "text/plain": [
       "<Figure size 432x288 with 1 Axes>"
      ]
     },
     "metadata": {
      "needs_background": "light"
     },
     "output_type": "display_data"
    },
    {
     "data": {
      "image/png": "[encoded data removed]",
      "text/plain": [
       "<Figure size 432x288 with 1 Axes>"
      ]
     },
     "metadata": {
      "needs_background": "light"
     },
     "output_type": "display_data"
    },
    {
     "name": "stdout",
     "output_type": "stream",
     "text": [
      "-----------------------------------\n",
      "\n",
      "\n"
     ]
    }
   ],
   "source": [
    "testTheta1=logisticRegression(0.0001,trainingX,trainingY,validatingX,validatingY)"
   ]
  },
  {
   "cell_type": "code",
   "execution_count": 16,
   "id": "b0fd6c31",
   "metadata": {},
   "outputs": [
    {
     "name": "stderr",
     "output_type": "stream",
     "text": [
      "c:\\users\\utkarsh\\appdata\\local\\programs\\python\\python37\\lib\\site-packages\\ipykernel_launcher.py:2: RuntimeWarning: overflow encountered in exp\n",
      "  \n",
      "c:\\users\\utkarsh\\appdata\\local\\programs\\python\\python37\\lib\\site-packages\\ipykernel_launcher.py:3: RuntimeWarning: divide by zero encountered in log\n",
      "  This is separate from the ipykernel package so we can avoid doing imports until\n",
      "c:\\users\\utkarsh\\appdata\\local\\programs\\python\\python37\\lib\\site-packages\\ipykernel_launcher.py:3: RuntimeWarning: invalid value encountered in matmul\n",
      "  This is separate from the ipykernel package so we can avoid doing imports until\n"
     ]
    },
    {
     "name": "stdout",
     "output_type": "stream",
     "text": [
      "The data below is for a learning rate =  10\n",
      "cost training:  nan\n",
      "parameters:  [[-35888.91654995]\n",
      " [  3421.87458678]\n",
      " [   113.29171724]\n",
      " [ -1029.28877108]\n",
      " [    17.97414911]\n",
      " [  -273.54454482]\n",
      " [  -121.80232639]\n",
      " [  6281.12832293]\n",
      " [  -277.65509737]]\n",
      "cost validating nan\n"
     ]
    },
    {
     "data": {
      "image/png": "[encoded data removed]",
      "text/plain": [
       "<Figure size 432x288 with 1 Axes>"
      ]
     },
     "metadata": {
      "needs_background": "light"
     },
     "output_type": "display_data"
    },
    {
     "data": {
      "image/png": "[encoded data removed]",
      "text/plain": [
       "<Figure size 432x288 with 1 Axes>"
      ]
     },
     "metadata": {
      "needs_background": "light"
     },
     "output_type": "display_data"
    },
    {
     "name": "stdout",
     "output_type": "stream",
     "text": [
      "-----------------------------------\n",
      "\n",
      "\n"
     ]
    }
   ],
   "source": [
    "testTheta2=logisticRegression(10,trainingX,trainingY,validatingX,validatingY)"
   ]
  },
  {
   "cell_type": "code",
   "execution_count": 17,
   "id": "c498f622",
   "metadata": {},
   "outputs": [],
   "source": [
    "def test(theta, x):\n",
    "    if(sigmoid(x@theta)>=0.5):\n",
    "        return 1\n",
    "    else:\n",
    "        return 0"
   ]
  },
  {
   "cell_type": "code",
   "execution_count": 57,
   "id": "1163fec0",
   "metadata": {},
   "outputs": [
    {
     "name": "stdout",
     "output_type": "stream",
     "text": [
      "8 6 49 15\n"
     ]
    }
   ],
   "source": [
    "testSize = testingX.shape[0]\n",
    "TP=0\n",
    "FP=0\n",
    "TN=0\n",
    "FN=0\n",
    "\n",
    "for i in range(testSize):\n",
    "    outcome = test(thetaImp,testingX[i])\n",
    "    if(outcome==1 and outcome==testingY[i]):\n",
    "        TP+=1\n",
    "    elif(outcome==1 and outcome!=testingY[i]):\n",
    "        FP+=1\n",
    "    elif(outcome==0 and outcome==testingY[i]):\n",
    "        TN+=1\n",
    "    else:\n",
    "        FN+=1\n",
    "\n",
    "print(TP,FP,TN,FN)\n",
    "\n",
    "\n",
    "    \n",
    "\n",
    "\n"
   ]
  },
  {
   "cell_type": "code",
   "execution_count": 61,
   "id": "fd308a74",
   "metadata": {},
   "outputs": [
    {
     "name": "stdout",
     "output_type": "stream",
     "text": [
      "Confusion matrix we get is \n",
      "[[ 8  6]\n",
      " [49 15]]\n",
      "Recall =  0.34782608695652173\n",
      "Precision =  0.5714285714285714\n",
      "accuracy =  0.7307692307692307\n",
      "f1Measure =  0.4324324324324324\n"
     ]
    }
   ],
   "source": [
    "confusion=[[TP,FP],[TN,FN]]\n",
    "confusionMatrix=np.array(confusion)\n",
    "print(\"Confusion matrix we get is \")\n",
    "print(confusionMatrix)\n",
    "\n",
    "\n",
    "recall = TP/(TP+FN)\n",
    "precision = TP/(TP+FP)\n",
    "accuracy = (TP+TN)/testSize\n",
    "fMeasure = (2*recall*precision)/(recall+precision)\n",
    "\n",
    "print(\"Recall = \",recall)\n",
    "print(\"Precision = \",precision)\n",
    "print(\"accuracy = \",accuracy)\n",
    "print(\"f1Measure = \",fMeasure)"
   ]
  },
  {
   "cell_type": "code",
   "execution_count": 66,
   "id": "e9cadbaa",
   "metadata": {},
   "outputs": [
    {
     "name": "stdout",
     "output_type": "stream",
     "text": [
      "[[50  5]\n",
      " [12 11]]\n"
     ]
    },
    {
     "name": "stderr",
     "output_type": "stream",
     "text": [
      "c:\\users\\utkarsh\\appdata\\local\\programs\\python\\python37\\lib\\site-packages\\sklearn\\utils\\validation.py:63: DataConversionWarning: A column-vector y was passed when a 1d array was expected. Please change the shape of y to (n_samples, ), for example using ravel().\n",
      "  return f(*args, **kwargs)\n"
     ]
    }
   ],
   "source": [
    "regression = LogisticRegression(max_iter=1000)\n",
    "regression.fit(trainingX,trainingY)\n",
    "yPred=regression.predict(testingX)\n",
    "print(confusion_matrix(testingY, yPred))"
   ]
  },
  {
   "cell_type": "code",
   "execution_count": 67,
   "id": "94aff7a8",
   "metadata": {},
   "outputs": [
    {
     "name": "stdout",
     "output_type": "stream",
     "text": [
      "Accuracy using sklearn : 0.782051282051282\n",
      "Precision using sklearn: 0.6875\n",
      "Recall using sklearn: 0.4782608695652174\n",
      "f1 score using sklearn: 0.5641025641025642\n"
     ]
    }
   ],
   "source": [
    "print(\"Accuracy using sklearn :\",accuracy_score(testingY,yPred))\n",
    "print(\"Precision using sklearn:\",precision_score(testingY, yPred))\n",
    "print(\"Recall using sklearn:\",recall_score(testingY, yPred))\n",
    "print(\"f1 score using sklearn:\",f1_score(testingY, yPred))"
   ]
  },
  {
   "cell_type": "code",
   "execution_count": null,
   "id": "ec80d5ae",
   "metadata": {},
   "outputs": [],
   "source": []
  }
 ],
 "metadata": {
  "kernelspec": {
   "display_name": "Python 3",
   "language": "python",
   "name": "python3"
  },
  "language_info": {
   "codemirror_mode": {
    "name": "ipython",
    "version": 3
   },
   "file_extension": ".py",
   "mimetype": "text/x-python",
   "name": "python",
   "nbconvert_exporter": "python",
   "pygments_lexer": "ipython3",
   "version": "3.7.4"
  }
 },
 "nbformat": 4,
 "nbformat_minor": 5
}
